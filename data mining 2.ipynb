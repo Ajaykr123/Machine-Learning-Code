{
 "cells": [
  {
   "cell_type": "markdown",
   "id": "176cf007",
   "metadata": {},
   "source": [
    "# question 1/ program"
   ]
  },
  {
   "cell_type": "code",
   "execution_count": 10,
   "id": "36ee75b4",
   "metadata": {},
   "outputs": [],
   "source": [
    "import numpy as np\n",
    "def gradient_descent(x,y):\n",
    "    x=np.array([1,2,3,4,5])   \n",
    "    y=np.array([5,7,9,11,13])\n",
    "    m_curr = b_curr =0\n",
    "    iterations=1000\n",
    "    n= len(x)\n",
    "    learning_rate=0.001\n",
    "    \n",
    "    \n",
    "    for i in range(iterations):\n",
    "        \n",
    "        y_predicted = m_curr*x + b_curr\n",
    "        md = -(2/n)*sum(x*(y-y_predicted))\n",
    "        bd=-(2/n)*sum(y-y_predicted)\n",
    "        m_curr = m_curr-learning_rate * md\n",
    "        b_curr = b_curr-learning_rate * bd\n",
    "        print(\"m {}, b {},iteration {} \".format(m_curr,b_curr,i))\n",
    "        \n",
    " \n",
    "\n",
    "        "
   ]
  },
  {
   "cell_type": "code",
   "execution_count": null,
   "id": "ade609f6",
   "metadata": {},
   "outputs": [],
   "source": []
  },
  {
   "cell_type": "code",
   "execution_count": 1,
   "id": "286502b9",
   "metadata": {},
   "outputs": [],
   "source": [
    "import pandas as pd\n",
    "import numpy as np\n",
    "import matplotlib.pyplot as plt"
   ]
  },
  {
   "cell_type": "code",
   "execution_count": null,
   "id": "1f09cf27",
   "metadata": {},
   "outputs": [],
   "source": [
    "data_1 = pd.read_csv(\"data1.csv\",header = None)\n",
    "data_2 = pd.read_csv(\"data2.csv\",header = None)"
   ]
  },
  {
   "cell_type": "code",
   "execution_count": null,
   "id": "2696f089",
   "metadata": {},
   "outputs": [],
   "source": [
    "def gradient_decent(x,y,learning_rate,iteration):\n",
    "    eps = 10**-2\n",
    "    n= len(x[0])\n",
    "    w = [0]*n\n",
    "    w0 = 0\n",
    "    m = len(x)\n",
    "    w_list = [ ]\n",
    "    for i in range(iteration):\n",
    "        y_predicted = np.dot(x,w)+w0\n",
    "        dy = y_predicted - y\n",
    "        dw0 = np.sum(dy)\n",
    "        dw = (1/m)*np.dot(dy,x)\n",
    "        w = w - learning_rate*dw\n",
    "        w0 = w0 -learning_rate*dw0\n",
    "    return w,w0"
   ]
  },
  {
   "cell_type": "code",
   "execution_count": null,
   "id": "6c1d8188",
   "metadata": {},
   "outputs": [],
   "source": [
    "def linear_reg(x,y,learning_rate,iteration):\n",
    "    eps = 10**-10\n",
    "    n= len(x[0])\n",
    "    w = [0]*n\n",
    "    w0 = 0\n",
    "    m = len(x)\n",
    "    cost_list = [ ]\n",
    "    w_list = [ ]\n",
    "    for i in range(iteration):\n",
    "        y_predicted = np.dot(x,w)+w0\n",
    "        cost = (1/(2*m))* np.sum(np.square(y-y_predicted))\n",
    "        cost_list.append(cost)\n",
    "        dy = y_predicted - y\n",
    "        dw0 = np.sum(dy)\n",
    "        dw = (1/m)*np.dot(dy,x)\n",
    "        w = w - learning_rate*dw\n",
    "        w0 = w0 -learning_rate*dw0\n",
    "        w_list.append(list(w)+[w0])\n",
    "        if cost <eps:\n",
    "            break\n",
    "    print(f\"Final Values :\\n w = {w} w0 = {w0} cost = {cost} \")\n",
    "    return cost_list,w_list,w,w0"
   ]
  },
  {
   "cell_type": "code",
   "execution_count": null,
   "id": "386184b8",
   "metadata": {},
   "outputs": [],
   "source": []
  },
  {
   "cell_type": "code",
   "execution_count": null,
   "id": "b5a53c3c",
   "metadata": {},
   "outputs": [],
   "source": []
  },
  {
   "cell_type": "code",
   "execution_count": null,
   "id": "509df61f",
   "metadata": {},
   "outputs": [],
   "source": []
  }
 ],
 "metadata": {
  "kernelspec": {
   "display_name": "Python 3",
   "language": "python",
   "name": "python3"
  },
  "language_info": {
   "codemirror_mode": {
    "name": "ipython",
    "version": 3
   },
   "file_extension": ".py",
   "mimetype": "text/x-python",
   "name": "python",
   "nbconvert_exporter": "python",
   "pygments_lexer": "ipython3",
   "version": "3.8.8"
  }
 },
 "nbformat": 4,
 "nbformat_minor": 5
}
